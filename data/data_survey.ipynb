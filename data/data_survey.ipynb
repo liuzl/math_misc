{
 "cells": [
  {
   "cell_type": "code",
   "execution_count": 1,
   "metadata": {},
   "outputs": [],
   "source": [
    "import json"
   ]
  },
  {
   "cell_type": "code",
   "execution_count": 2,
   "metadata": {},
   "outputs": [],
   "source": [
    "data = json.loads(open(\"sat.dev.gold.json\").read())"
   ]
  },
  {
   "cell_type": "code",
   "execution_count": 3,
   "metadata": {},
   "outputs": [
    {
     "name": "stdout",
     "output_type": "stream",
     "text": [
      "0. If \\(3(a + 2b) = 27\\) , what is the value of \\(5a + 10b\\)? \n",
      "\n",
      "1. If \\(a + 2b = 20\\) and \\(a \\geq 6\\), which of the following must be true ? \n",
      "\n",
      "2. The graph above shows the number of students at X High School. If the number of sophomores is 25 more than the number of juniors, how many students are there in the school? \n",
      "\n",
      "3. The figure above shows the graph of \\(ax + by + c = 0\\). Which of the following could be true? I. \\(\\frac { a } { b } > 0\\) II. \\(\\frac { c } { b } > 0\\) III. \\(\\frac { c } { b } < 0\\) \n",
      "\n",
      "4. If the average of \\(x\\), \\(x + 1\\) and 10 is 7, what is the value of \\(x + 1\\)? \n",
      "\n",
      "5. Let the function f be defined by \\(f(x) = \\frac { x^2 } { 3 } + 6\\). If \\(f(3m) = 9m\\), what is one possible value of \\(m\\)? \n",
      "\n",
      "6. The figure above shows a circle with a radius of 5 in an \\(xy-\\) plane. Which of the following coordinates does not belong to the inside of the circle? \n",
      "\n",
      "7. In a certain class,\\(\\frac { 4 } { 7 } \\) of the students are boys, and the ratio of the students older than or equal to 10 years to the students less than 10 years old is 2:3. If \\(\\frac { 2 } { 3 } \\) of the girls are less than 10 years old, what fraction of the boys are older than or equal to 10 years? \n",
      "\n",
      "8. If \\(4^(x + 1) = 8 \\times 2^k\\), what is the value of \\(k\\) in terms of \\(x\\)? \n",
      "\n",
      "9. If \\(a\\) and \\(b\\) are positive numbers, and \\(125\\% \\)of \\(a^2\\) is equal to \\(5\\%\\) of \\(b^2\\), what is the value of \\(\\frac { a } { b } \\)? \n",
      "\n"
     ]
    }
   ],
   "source": [
    "for i in range(10):\n",
    "    print(str(i)+\".\", data[i]['question'],\"\\n\")"
   ]
  },
  {
   "cell_type": "markdown",
   "metadata": {},
   "source": [
    "$\\frac { c } { b } > 0$"
   ]
  },
  {
   "cell_type": "code",
   "execution_count": 4,
   "metadata": {},
   "outputs": [],
   "source": [
    "with open(\"questions.txt\",\"w\") as out:\n",
    "    for item in data:\n",
    "        out.write(item['question']+\"\\n\")"
   ]
  },
  {
   "cell_type": "code",
   "execution_count": 5,
   "metadata": {},
   "outputs": [
    {
     "data": {
      "text/plain": [
       "625"
      ]
     },
     "execution_count": 5,
     "metadata": {},
     "output_type": "execute_result"
    }
   ],
   "source": [
    "5**4"
   ]
  },
  {
   "cell_type": "code",
   "execution_count": 6,
   "metadata": {},
   "outputs": [],
   "source": [
    "import re"
   ]
  },
  {
   "cell_type": "code",
   "execution_count": 7,
   "metadata": {},
   "outputs": [],
   "source": [
    "s = data[0]['question']"
   ]
  },
  {
   "cell_type": "code",
   "execution_count": 8,
   "metadata": {},
   "outputs": [
    {
     "data": {
      "text/plain": [
       "['3(a + 2b) = 27', '5a + 10b']"
      ]
     },
     "execution_count": 8,
     "metadata": {},
     "output_type": "execute_result"
    }
   ],
   "source": [
    "re.findall(r'\\\\\\((.+?)\\\\\\)', s)"
   ]
  },
  {
   "cell_type": "code",
   "execution_count": 9,
   "metadata": {},
   "outputs": [
    {
     "name": "stdout",
     "output_type": "stream",
     "text": [
      "If \\(3(a + 2b) = 27\\) , what is the value of \\(5a + 10b\\)?\n"
     ]
    }
   ],
   "source": [
    "print(s)"
   ]
  },
  {
   "cell_type": "code",
   "execution_count": 10,
   "metadata": {},
   "outputs": [],
   "source": [
    "out = open(\"latex_math.txt\",\"w\")\n",
    "for i in data:\n",
    "    if \"closed\" not in i['tags']: continue\n",
    "    q = i['question']\n",
    "    for j in re.findall(r'\\\\\\((.+?)\\\\\\)',q):\n",
    "        out.write(j+\"\\n\")\n",
    "out.close()"
   ]
  },
  {
   "cell_type": "markdown",
   "metadata": {},
   "source": [
    "$p \\diamond q = p^2 - q^2$\n",
    "\n",
    "$\\frac { 1 } { 2 } P\\ell + B$\n",
    "\n",
    "$\\triangle { ABC }$\n",
    "\n",
    "$\\frac { 1 } { 3 } f(\\sqrt { k } ) = 3$"
   ]
  },
  {
   "cell_type": "code",
   "execution_count": null,
   "metadata": {},
   "outputs": [],
   "source": []
  }
 ],
 "metadata": {
  "kernelspec": {
   "display_name": "Python 3",
   "language": "python",
   "name": "python3"
  },
  "language_info": {
   "codemirror_mode": {
    "name": "ipython",
    "version": 3
   },
   "file_extension": ".py",
   "mimetype": "text/x-python",
   "name": "python",
   "nbconvert_exporter": "python",
   "pygments_lexer": "ipython3",
   "version": "3.6.5"
  }
 },
 "nbformat": 4,
 "nbformat_minor": 2
}
