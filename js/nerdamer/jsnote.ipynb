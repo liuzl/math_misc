{
 "cells": [
  {
   "cell_type": "code",
   "execution_count": 1,
   "metadata": {},
   "outputs": [
    {
     "name": "stdout",
     "output_type": "stream",
     "text": [
      "2*cos(x)+3*x^2\n",
      "108+2*cos(6)\n",
      "2842647949/25860982\n",
      "2 \\cdot \\mathrm{cos}\\left(\\frac{1}{4}\\right)+\\frac{3}{16}\n",
      "2 \\cdot \\mathrm{cos}\\left(0.25\\right)+0.1875\n",
      "2*cos(1+x^2)+3*(1+x^2)^2\n",
      "[ '2*cos(x)+3*x^2',\n",
      "  '108+2*cos(6)',\n",
      "  '108+2*cos(6)',\n",
      "  '2*cos(1/4)+3/16',\n",
      "  '2*cos(1/4)+3/16',\n",
      "  '2*cos(1+x^2)+3*(1+x^2)^2',\n",
      "  '2*cos(x)+3*x^2',\n",
      "  'cos(x)^2+sin(x)^2' ]\n"
     ]
    },
    {
     "data": {
      "text/plain": [
       "{}"
      ]
     },
     "execution_count": 1,
     "metadata": {},
     "output_type": "execute_result"
    }
   ],
   "source": [
    "require(\"./main.js\");"
   ]
  },
  {
   "cell_type": "code",
   "execution_count": 2,
   "metadata": {},
   "outputs": [],
   "source": [
    "var e = nerdamer('x^2+2*(cos(x)+x*x)');"
   ]
  },
  {
   "cell_type": "code",
   "execution_count": 3,
   "metadata": {},
   "outputs": [
    {
     "data": {
      "text/plain": [
       "[ '2*cos(x)+3*x^2',\n",
       "  '108+2*cos(6)',\n",
       "  '108+2*cos(6)',\n",
       "  '2*cos(1/4)+3/16',\n",
       "  '2*cos(1/4)+3/16',\n",
       "  '2*cos(1+x^2)+3*(1+x^2)^2',\n",
       "  '2*cos(x)+3*x^2',\n",
       "  'cos(x)^2+sin(x)^2',\n",
       "  '2*cos(x)+3*x^2' ]"
      ]
     },
     "execution_count": 3,
     "metadata": {},
     "output_type": "execute_result"
    }
   ],
   "source": [
    "nerdamer.expressions()"
   ]
  },
  {
   "cell_type": "code",
   "execution_count": 8,
   "metadata": {},
   "outputs": [
    {
     "data": {
      "text/plain": [
       "'11.167706326905716'"
      ]
     },
     "execution_count": 8,
     "metadata": {},
     "output_type": "execute_result"
    }
   ],
   "source": [
    "e.evaluate({x:2}).text()"
   ]
  },
  {
   "cell_type": "code",
   "execution_count": 9,
   "metadata": {},
   "outputs": [],
   "source": [
    "var result = nerdamer('sqrt(x)*sqrt(x)-2').evaluate({x:2});"
   ]
  },
  {
   "cell_type": "code",
   "execution_count": 11,
   "metadata": {},
   "outputs": [
    {
     "data": {
      "text/plain": [
       "'0'"
      ]
     },
     "execution_count": 11,
     "metadata": {},
     "output_type": "execute_result"
    }
   ],
   "source": [
    "result.text()"
   ]
  },
  {
   "cell_type": "code",
   "execution_count": 17,
   "metadata": {},
   "outputs": [],
   "source": [
    "var ans = nerdamer('a+b').multiply(2).pow(3);"
   ]
  },
  {
   "cell_type": "code",
   "execution_count": 24,
   "metadata": {},
   "outputs": [
    {
     "data": {
      "text/plain": [
       "'1000'"
      ]
     },
     "execution_count": 24,
     "metadata": {},
     "output_type": "execute_result"
    }
   ],
   "source": [
    "ans./*expand().*/evaluate({a:1,b:4}).text()"
   ]
  },
  {
   "cell_type": "markdown",
   "metadata": {},
   "source": [
    "# Solving equations\n",
    "To solve equations first load Solve.js. Just remember that Solve also required Algebra.js and Calculus.js to be loaded. You can then solve equations using nerdamer. For example:"
   ]
  },
  {
   "cell_type": "code",
   "execution_count": 34,
   "metadata": {},
   "outputs": [],
   "source": [
    "var sol = nerdamer.solveEquations('x^2+2x=x^2+6','x');"
   ]
  },
  {
   "cell_type": "code",
   "execution_count": 35,
   "metadata": {},
   "outputs": [
    {
     "data": {
      "text/plain": [
       "'3'"
      ]
     },
     "execution_count": 35,
     "metadata": {},
     "output_type": "execute_result"
    }
   ],
   "source": [
    "sol.toString()"
   ]
  },
  {
   "cell_type": "code",
   "execution_count": 37,
   "metadata": {},
   "outputs": [],
   "source": [
    "var sol = nerdamer.solveEquations('cos(x)+cos(3*x)=1','x');"
   ]
  },
  {
   "cell_type": "code",
   "execution_count": 38,
   "metadata": {},
   "outputs": [
    {
     "data": {
      "text/plain": [
       "'-1141350918/196848325,-352497319/726706130,-419119280/22822261,352497319/726706130'"
      ]
     },
     "execution_count": 38,
     "metadata": {},
     "output_type": "execute_result"
    }
   ],
   "source": [
    "sol.toString()"
   ]
  },
  {
   "cell_type": "code",
   "execution_count": null,
   "metadata": {},
   "outputs": [],
   "source": []
  }
 ],
 "metadata": {
  "kernelspec": {
   "display_name": "Javascript (Node.js)",
   "language": "javascript",
   "name": "javascript"
  },
  "language_info": {
   "file_extension": ".js",
   "mimetype": "application/javascript",
   "name": "javascript",
   "version": "8.4.0"
  }
 },
 "nbformat": 4,
 "nbformat_minor": 2
}
