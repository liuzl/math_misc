{
 "cells": [
  {
   "cell_type": "code",
   "execution_count": 1,
   "metadata": {},
   "outputs": [
    {
     "name": "stdout",
     "output_type": "stream",
     "text": [
      "2*cos(x)+3*x^2\n",
      "108+2*cos(6)\n",
      "2842647949/25860982\n",
      "2 \\cdot \\mathrm{cos}\\left(\\frac{1}{4}\\right)+\\frac{3}{16}\n",
      "2 \\cdot \\mathrm{cos}\\left(0.25\\right)+0.1875\n",
      "2*cos(1+x^2)+3*(1+x^2)^2\n",
      "[ '2*cos(x)+3*x^2',\n",
      "  '108+2*cos(6)',\n",
      "  '108+2*cos(6)',\n",
      "  '2*cos(1/4)+3/16',\n",
      "  '2*cos(1/4)+3/16',\n",
      "  '2*cos(1+x^2)+3*(1+x^2)^2',\n",
      "  '2*cos(x)+3*x^2',\n",
      "  'cos(x)^2+sin(x)^2' ]\n"
     ]
    },
    {
     "data": {
      "text/plain": [
       "{}"
      ]
     },
     "execution_count": 1,
     "metadata": {},
     "output_type": "execute_result"
    }
   ],
   "source": [
    "require(\"./main.js\");"
   ]
  },
  {
   "cell_type": "code",
   "execution_count": null,
   "metadata": {},
   "outputs": [],
   "source": []
  }
 ],
 "metadata": {
  "kernelspec": {
   "display_name": "Javascript (Node.js)",
   "language": "javascript",
   "name": "javascript"
  },
  "language_info": {
   "file_extension": ".js",
   "mimetype": "application/javascript",
   "name": "javascript",
   "version": "10.11.0"
  }
 },
 "nbformat": 4,
 "nbformat_minor": 2
}
